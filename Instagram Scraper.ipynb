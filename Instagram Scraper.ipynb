{
 "cells": [
  {
   "cell_type": "markdown",
   "metadata": {},
   "source": [
    "### Importing Required Libraries:"
   ]
  },
  {
   "cell_type": "code",
   "execution_count": 1,
   "metadata": {},
   "outputs": [],
   "source": [
    "from selenium import webdriver\n",
    "from selenium.webdriver.common.keys import Keys"
   ]
  },
  {
   "cell_type": "markdown",
   "metadata": {},
   "source": [
    "### Instagram Class"
   ]
  },
  {
   "cell_type": "code",
   "execution_count": 17,
   "metadata": {},
   "outputs": [],
   "source": [
    "class Instagram:\n",
    "    def __init__(self):\n",
    "        print('https://www.instagram.com/')\n",
    "    def Instagram_User(self,username):\n",
    "        print('https://www.instagram.com/'+username)\n",
    "    def GetNumberofPosts(self):\n",
    "        print(\"Number of Posts are\")\n",
    "    def GetNumberofFollowers(self):\n",
    "        print(\"Number of followers are :\")\n",
    "    def GetNumberofFollowings(self):\n",
    "        print(\"Number of followings are :\")\n",
    "    def GetPosts(self):\n",
    "        print(\"Posts are\")\n",
    "    def GetTaggedInPosts(self):\n",
    "        print(\"Tagged In Posts are\")\n",
    "    def GetTagged(self):\n",
    "        print(\"Tagged are\")\n",
    "    def GetEmail(self):\n",
    "        print(\"Email is\")\n",
    "    def GetWebsite(self):\n",
    "        print(\"website is\")\n",
    "    def GetEmailFromWebsite(self):\n",
    "        print(\"Email from the website is\")\n",
    "    def GetUsersWhoPost(self):\n",
    "        print(\"Users are\")\n",
    "    def GetPicture(sefl):\n",
    "        print(\"Picture is \")\n",
    "    "
   ]
  },
  {
   "cell_type": "code",
   "execution_count": 21,
   "metadata": {},
   "outputs": [
    {
     "name": "stdout",
     "output_type": "stream",
     "text": [
      "https://www.instagram.com/\n",
      "Email is\n",
      "Email from the website is\n",
      "Number of followers are :\n",
      "Number of followings are :\n",
      "Number of Posts are\n",
      "Picture is \n",
      "Posts are\n",
      "Tagged are\n",
      "Tagged In Posts are\n",
      "Users are\n",
      "website is\n",
      "https://www.instagram.com/therock\n"
     ]
    }
   ],
   "source": [
    "user = Instagram()\n",
    "user.GetEmail()\n",
    "user.GetEmailFromWebsite()\n",
    "user.GetNumberofFollowers()\n",
    "user.GetNumberofFollowings()\n",
    "user.GetNumberofPosts()\n",
    "user.GetPicture()\n",
    "user.GetPosts()\n",
    "user.GetTagged()\n",
    "user.GetTaggedInPosts()\n",
    "user.GetUsersWhoPost()\n",
    "user.GetWebsite()\n",
    "user.Instagram_User('therock')"
   ]
  },
  {
   "cell_type": "code",
   "execution_count": null,
   "metadata": {},
   "outputs": [],
   "source": []
  }
 ],
 "metadata": {
  "kernelspec": {
   "display_name": "Python 3",
   "language": "python",
   "name": "python3"
  },
  "language_info": {
   "codemirror_mode": {
    "name": "ipython",
    "version": 3
   },
   "file_extension": ".py",
   "mimetype": "text/x-python",
   "name": "python",
   "nbconvert_exporter": "python",
   "pygments_lexer": "ipython3",
   "version": "3.7.1"
  }
 },
 "nbformat": 4,
 "nbformat_minor": 2
}
