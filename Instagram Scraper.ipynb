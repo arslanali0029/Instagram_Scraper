{
 "cells": [
  {
   "cell_type": "markdown",
   "metadata": {},
   "source": [
    "### Importing Required Libraries:"
   ]
  },
  {
   "cell_type": "code",
   "execution_count": 1,
   "metadata": {},
   "outputs": [],
   "source": [
    "from selenium import webdriver\n",
    "from selenium.webdriver.common.keys import Keys"
   ]
  },
  {
   "cell_type": "markdown",
   "metadata": {},
   "source": [
    "### Instagram Class"
   ]
  },
  {
   "cell_type": "code",
   "execution_count": 8,
   "metadata": {},
   "outputs": [],
   "source": [
    "class Instagram:\n",
    "    def __init__(self):\n",
    "        browser.get('https://www.instagram.com/')\n",
    "#         print('https://www.instagram.com/')\n",
    "    def Instagram_User(self,username,):\n",
    "        browser.get('https://www.instagram.com/'+username)\n",
    "#         print('https://www.instagram.com/'+username)\n",
    "    def GetNumberofPosts(self):\n",
    "        print(\"Number of Posts are\")\n",
    "    def GetNumberofFollowers(self):\n",
    "        print(\"Number of followers are :\")\n",
    "    def GetNumberofFollowings(self):\n",
    "        print(\"Number of followings are :\")\n",
    "    def GetPosts(self):\n",
    "        print(\"Posts are\")\n",
    "    def GetTaggedInPosts(self):\n",
    "        print(\"Tagged In Posts are\")\n",
    "    def GetTagged(self):\n",
    "        print(\"Tagged are\")\n",
    "    def GetEmail(self):\n",
    "        print(\"Email is\")\n",
    "    def GetWebsite(self):\n",
    "        print(\"website is\")\n",
    "    def GetEmailFromWebsite(self):\n",
    "        print(\"Email from the website is\")\n",
    "    def GetUsersWhoPost(self):\n",
    "        print(\"Users are\")\n",
    "    def GetPicture(sefl):\n",
    "        print(\"Picture is \")\n",
    "    "
   ]
  },
  {
   "cell_type": "code",
   "execution_count": 9,
   "metadata": {},
   "outputs": [],
   "source": [
    "browser = webdriver.Chrome(r'path')\n",
    "\n",
    "user = Instagram()\n",
    "user.Instagram_User('therock')"
   ]
  },
  {
   "cell_type": "code",
   "execution_count": null,
   "metadata": {},
   "outputs": [],
   "source": []
  }
 ],
 "metadata": {
  "kernelspec": {
   "display_name": "Python 3",
   "language": "python",
   "name": "python3"
  },
  "language_info": {
   "codemirror_mode": {
    "name": "ipython",
    "version": 3
   },
   "file_extension": ".py",
   "mimetype": "text/x-python",
   "name": "python",
   "nbconvert_exporter": "python",
   "pygments_lexer": "ipython3",
   "version": "3.7.1"
  }
 },
 "nbformat": 4,
 "nbformat_minor": 2
}
